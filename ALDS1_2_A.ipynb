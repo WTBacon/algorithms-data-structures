{
 "cells": [
  {
   "cell_type": "markdown",
   "metadata": {},
   "source": [
    "# ALDS1_2_A: Bubble Sort\n",
    "バブルソート\n",
    "> バブルソートはその名前が表すように、泡（Bubble）が水面に上がっていくように配列の要素が動いていきます。バブルソートは次のようなアルゴリズムで数列を昇順に並び変えます。  \n",
    "```\n",
    "1 bubbleSort(A, N) // N 個の要素を含む 0-オリジンの配列 A\n",
    "2   flag = 1 // 逆の隣接要素が存在する\n",
    "3   while flag\n",
    "4     flag = 0\n",
    "5     for j が N-1 から 1 まで\n",
    "6       if A[j] < A[j-1]\n",
    "7         A[j] と A[j-1] を交換\n",
    "8         flag = 1\n",
    "``` \n",
    "\n",
    "オーダ\n",
    "> O(N^2)\n",
    "\n",
    "問題\n",
    "> 数列 A を読み込み、バブルソートで昇順に並び変え出力するプログラムを作成してください。また、バブルソートで行われた要素の交換回数も報告してください。\n",
    "\n"
   ]
  },
  {
   "cell_type": "markdown",
   "metadata": {},
   "source": [
    "\n",
    "### 入力\n",
    ">入力の最初の行に、数列の長さを表す整数 N が与えられます。２行目に、N 個の整数が空白区切りで与えられます。\n",
    "\n",
    "### 出力\n",
    ">出力は 2 行からなります。１行目に整列された数列を 1 行に出力してください。数列の連続する要素は１つの空白で区切って出力してください。2 行目に交換回数を出力してください。\n",
    "\n",
    "### 制約\n",
    ">* 1 ≤ N ≤ 100\n",
    ">* 0 ≤ A の要素 ≤ 100\n"
   ]
  },
  {
   "cell_type": "code",
   "execution_count": 64,
   "metadata": {},
   "outputs": [
    {
     "name": "stdout",
     "output_type": "stream",
     "text": [
      "5\n",
      "5 3 2 4 1\n",
      "1 2 3 4 5\n",
      "8\n"
     ]
    }
   ],
   "source": [
    "# targetList : 入力された数字の文字列をint型の要素にして保持するリスト\n",
    "# i : 未ソートの部分列の先頭のインデックスを示すループ変数で、配列の先頭から末尾に向かって移動する\n",
    "# j : 隣り合う未ソートの要素とソート済みの要素を比較するためのループ変数でtargetListの末尾であるN-1から開始してiまで減少する\n",
    "\n",
    "def bubbleSort(targetList, length):\n",
    "    reverseCount = 0\n",
    "    for i in range(length):\n",
    "        j  = length -1 \n",
    "        while i != j:\n",
    "            if targetList[j] < targetList[j-1]:\n",
    "                targetList[j-1], targetList[j] = targetList[j], targetList[j-1]\n",
    "                reverseCount += 1\n",
    "            j -= 1\n",
    "    print(\" \".join([str(x) for x in targetList]))\n",
    "    print(reverseCount)\n",
    "\n",
    "if __name__ == '__main__':\n",
    "    length = int(input())\n",
    "    targetList = list(map(int,input().split()))\n",
    "    bubbleSort(targetList, length)"
   ]
  }
 ],
 "metadata": {
  "kernelspec": {
   "display_name": "Python 3",
   "language": "python",
   "name": "python3"
  },
  "language_info": {
   "codemirror_mode": {
    "name": "ipython",
    "version": 3
   },
   "file_extension": ".py",
   "mimetype": "text/x-python",
   "name": "python",
   "nbconvert_exporter": "python",
   "pygments_lexer": "ipython3",
   "version": "3.6.1"
  }
 },
 "nbformat": 4,
 "nbformat_minor": 2
}
