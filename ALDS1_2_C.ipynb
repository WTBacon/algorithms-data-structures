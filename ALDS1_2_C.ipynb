{
 "cells": [
  {
   "cell_type": "markdown",
   "metadata": {},
   "source": [
    "# ALDS1_2_C: Stable Sort\n",
    "安定なソート\n",
    "> トランプのカードを整列しましょう。ここでは、４つの絵柄(S, H, C, D)と９つの数字(1, 2, ..., 9)から構成される計 36 枚のカードを用います。例えば、ハートの 8 は\"H8\"、ダイヤの 1 は\"D1\"と表します。\n",
    "\n",
    "問題\n",
    "> バブルソート及び選択ソートのアルゴリズムを用いて、与えられた N 枚のカードをそれらの数字を基準に昇順に整列するプログラムを作成してください。アルゴリズムはそれぞれ以下に示す疑似コードに従うものとします。数列の要素は 0 オリジンで記述されています。\n",
    "```\n",
    "1 BubbleSort(C, N)\n",
    "2   for i = 0 to N-1\n",
    "3     for j = N-1 downto i+1\n",
    "4       if C[j].value < C[j-1].value\n",
    "5         C[j] と C[j-1] を交換\n",
    "6\n",
    "7 SelectionSort(C, N)\n",
    "8   for i = 0 to N-1\n",
    "9     minj = i\n",
    "10    for j = i to N-1\n",
    "11      if C[j].value < C[minj].value\n",
    "12        minj = j\n",
    "13    C[i] と C[minj] を交換\n",
    "```\n",
    "\n",
    ">また、各アルゴリズムについて、与えられた入力に対して安定な出力を行っているか報告してください。ここでは、同じ数字を持つカードが複数ある場合それらが入力に出現する順序で出力されることを、「安定な出力」と呼ぶことにします。（※常に安定な出力を行うソートのアルゴリズムを安定なソートアルゴリズムと言います。）\n",
    "\n",
    "オーダ\n",
    "> バブルソートと選択ソート：O(N^2)  \n",
    "Stable判定：O(N)"
   ]
  },
  {
   "cell_type": "markdown",
   "metadata": {},
   "source": [
    "### 入力\n",
    "> 1 行目にカードの枚数 N が与えられます。 2 行目に N 枚のカードが与えられます。各カードは絵柄と数字のペアを表す２文字であり、隣合うカードは１つの空白で区切られています。\n",
    "\n",
    "### 出力\n",
    ">1 行目に、バブルソートによって整列されたカードを順番に出力してください。隣合うカードは１つの空白で区切ってください。\n",
    "2 行目に、この出力が安定か否か（Stable またはNot stable）を出力してください。\n",
    "3 行目に、選択ソートによって整列されたカードを順番に出力してください。隣合うカードは１つの空白で区切ってください。\n",
    "4 行目に、この出力が安定か否か（Stable またはNot stable）を出力してください。\n",
    "\n",
    "### 制約\n",
    ">1 ≤ N ≤ 36"
   ]
  },
  {
   "cell_type": "code",
   "execution_count": 90,
   "metadata": {},
   "outputs": [],
   "source": [
    "targetList = [\"H4\", \"C9\",\"S4\",\"D2\",\"C3\"]\n",
    "length = 5"
   ]
  },
  {
   "cell_type": "code",
   "execution_count": 81,
   "metadata": {},
   "outputs": [],
   "source": [
    "def bubbleSort(targetList, length):\n",
    "    for i in range(length):\n",
    "        j = length -1 \n",
    "        while i != j:\n",
    "            if int(targetList[j-1][-1]) > int(targetList[j][-1]):\n",
    "                targetList[j-1], targetList[j] = targetList[j], targetList[j-1]\n",
    "            j -= 1\n",
    "    print(\" \".join([str(x) for x in targetList]))\n",
    "    print(\"Stable\")\n",
    "    return targetList\n",
    "\n",
    "def selectionSort(targetList, length):\n",
    "    for i in range(length):\n",
    "        minIndex = i\n",
    "        for j in range(i, length):\n",
    "            if int(targetList[j][-1]) < int(targetList[minIndex][-1]):\n",
    "                minIndex = j\n",
    "        if i != minIndex:\n",
    "            targetList[i], targetList[minIndex] = targetList[minIndex], targetList[i]\n",
    "    print(\" \".join([str(x) for x in targetList]))\n",
    "    return targetList\n",
    "\n",
    "if __name__ == '__main__':\n",
    "    length = int(input())\n",
    "    targetList = list(input().split())\n",
    "    bubbleSortList = bubbleSort(targetList.copy(), length)\n",
    "    if  bubbleSortList == selectionSort(targetList, length):\n",
    "        print(\"Stable\")\n",
    "    else:\n",
    "        print(\"Not stable\")"
   ]
  }
 ],
 "metadata": {
  "kernelspec": {
   "display_name": "Python 3",
   "language": "python",
   "name": "python3"
  },
  "language_info": {
   "codemirror_mode": {
    "name": "ipython",
    "version": 3
   },
   "file_extension": ".py",
   "mimetype": "text/x-python",
   "name": "python",
   "nbconvert_exporter": "python",
   "pygments_lexer": "ipython3",
   "version": "3.6.1"
  }
 },
 "nbformat": 4,
 "nbformat_minor": 2
}
