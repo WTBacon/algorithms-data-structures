{
 "cells": [
  {
   "cell_type": "markdown",
   "metadata": {},
   "source": [
    "# ALDS1_2_B: Selection Sort\n",
    "選択ソート\n",
    "> 選択ソートは、各計算ステップで１つの最小値を「選択」していく、直観的なアルゴリズムです。\n",
    "```\n",
    "1 selectionSort(A, N) // N個の要素を含む0-オリジンの配列A\n",
    "2   for i が 0 から N-1 まで\n",
    "3     minj = i\n",
    "4     for j が i から N-1 まで\n",
    "5       if A[j] < A[minj]\n",
    "6         minj = j\n",
    "7     A[i] と A[minj] を交換\n",
    "```\n",
    "\n",
    "オーダ\n",
    "> O(N^2)\n",
    "\n",
    "問題\n",
    "> 数列Aを読み込み、選択ソートのアルゴリズムで昇順に並び替え出力するプログラムを作成してください。上の疑似コードに従いアルゴリズムを実装してください。\n",
    "> 疑似コード 7 行目で、i と minj が異なり実際に交換が行われた回数も出力してください。"
   ]
  },
  {
   "cell_type": "markdown",
   "metadata": {},
   "source": [
    "\n",
    "### 入力\n",
    "> 入力の最初の行に、数列の長さを表す整数 N が与えられます。２行目に、N 個の整数が空白区切りで与えられます。\n",
    "\n",
    "### 出力\n",
    "> 出力は 2 行からなります。１行目に整列された数列を 1 行に出力してください。数列の連続する要素は１つの空白で区切って出力してください。2 行目に交換回数を出力してください。\n",
    "\n",
    "### 制約\n",
    "> * 1 ≤ N ≤ 100\n",
    "> * 0 ≤ A の要素 ≤ 100\n"
   ]
  },
  {
   "cell_type": "code",
   "execution_count": 4,
   "metadata": {},
   "outputs": [
    {
     "name": "stdout",
     "output_type": "stream",
     "text": [
      "6\n",
      "5 6 4 2 1 3\n",
      "1 2 3 4 5 6\n",
      "4\n"
     ]
    }
   ],
   "source": [
    "# targetList : 入力された数字の文字列をint型の要素にして保持するリスト\n",
    "# i : 未ソートの部分列の先頭のインデックスを示すループ変数で、配列の先頭から末尾に向かって移動する\n",
    "# minv : 各ループ処理で　i　番目から　N-1　番目までの要素で最小の要素のインデックス\n",
    "# j : 未ソートの部分から最小値のインデックス（minv）を探すためのループ変数\n",
    "\n",
    "def selectionSort(targetList, length):\n",
    "    reverseCount = 0\n",
    "    for i in range(length):\n",
    "        minIndex = i\n",
    "        for j in range(i, length):\n",
    "            if targetList[j] < targetList[minIndex]:\n",
    "                minIndex = j\n",
    "        if i != minIndex:\n",
    "            targetList[i], targetList[minIndex] = targetList[minIndex], targetList[i]\n",
    "            reverseCount += 1\n",
    "    print(\" \".join([str(x) for x in targetList]))\n",
    "    print(reverseCount)\n",
    "\n",
    "if __name__ == '__main__':\n",
    "    length = int(input())\n",
    "    targetList = list(map(int,input().split()))\n",
    "    selectionSort(targetList, length)"
   ]
  }
 ],
 "metadata": {
  "kernelspec": {
   "display_name": "Python 3",
   "language": "python",
   "name": "python3"
  },
  "language_info": {
   "codemirror_mode": {
    "name": "ipython",
    "version": 3
   },
   "file_extension": ".py",
   "mimetype": "text/x-python",
   "name": "python",
   "nbconvert_exporter": "python",
   "pygments_lexer": "ipython3",
   "version": "3.6.1"
  }
 },
 "nbformat": 4,
 "nbformat_minor": 2
}
