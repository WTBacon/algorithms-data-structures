{
 "cells": [
  {
   "cell_type": "markdown",
   "metadata": {},
   "source": [
    "# ALDS1_2_D: Shell Sort\n",
    "Shell Sort\n",
    ">次のプログラムは、挿入ソートを応用して n 個の整数を含む数列 A を昇順に整列するプログラムです。\n",
    "```\n",
    "1  insertionSort(A, n, g)\n",
    "2      for i = g to n-1\n",
    "3          v = A[i]\n",
    "4          j = i - g\n",
    "5          while j >= 0 && A[j] > v\n",
    "6              A[j+g] = A[j]\n",
    "7              j = j - g\n",
    "8              cnt++\n",
    "9          A[j+g] = v\n",
    "10\n",
    "11 shellSort(A, n)\n",
    "12     cnt = 0\n",
    "13     m = ?\n",
    "14     G[] = {?, ?,..., ?}\n",
    "15     for i = 0 to m-1\n",
    "16         insertionSort(A, n, G[i])\n",
    "```\n",
    ">shellSort(A, n) は、一定の間隔 g だけ離れた要素のみを対象とした挿入ソートである insertionSort(A, n, g) を、最初は大きい値から g を狭めながら繰り返します。これをシェルソートと言います。\n",
    "\n",
    "問題\n",
    ">上の疑似コードの ? を埋めてこのプログラムを完成させてください。n と数列 A が与えられるので、疑似コード中の m、m 個の整数 Gi(i=0,1,...,m－1)、入力 Aを昇順にした列を出力するプログラムを作成してください。ただし、出力は以下の条件を満 たす必要があります。\n",
    "\n",
    "> * 1≤m≤100\n",
    "* 0≤Gi≤n\n",
    "* cnt の値は ⌈n1.5⌉ を超えてはならない\n"
   ]
  },
  {
   "cell_type": "markdown",
   "metadata": {},
   "source": [
    "### 入力\n",
    "> 1 行目に整数 n が与えられます。続く n 行目に n 個の整数 Ai(i=0,1,...,n−1) が与えられます。\n",
    "\n",
    "### 出力\n",
    "> 1 行目に整数 m、2 行目に m 個の整数 Gi(i=0,1,...,m−1) を空白区切りで出力してください。\n",
    "3 行目に、G を用いた場合のプログラムが終了した直後の cnt　の値を出力してください。\n",
    "続く n 行に整列した Ai(i=0,1,...,n−1) を出力してください。\n",
    "\n",
    "> この問題では、１つの入力に対して複数の解答があります。条件を満たす出力は全て正解となります。\n",
    "\n",
    "### 制約\n",
    "> * 1≤n≤1,000,000\n",
    "* 0≤Ai≤109\n"
   ]
  },
  {
   "cell_type": "code",
   "execution_count": 259,
   "metadata": {},
   "outputs": [
    {
     "name": "stdout",
     "output_type": "stream",
     "text": [
      "1\n",
      "1\n",
      "\n",
      "1\n",
      "1\n",
      "0\n",
      "1\n"
     ]
    }
   ],
   "source": [
    "class Test:\n",
    "    def __init__(self, targetList, length):\n",
    "        self.cnt = 0\n",
    "        self.targetList = targetList\n",
    "        self.length = length\n",
    "        self.G = []\n",
    "            \n",
    "    def insertionSort(self, interval):\n",
    "        for i in range(interval, self.length):\n",
    "            targetElement = self.targetList[i]\n",
    "            j = i - interval\n",
    "            while (j >= 0 and self.targetList[j] > targetElement):\n",
    "                self.targetList[j + interval] = self.targetList[j]\n",
    "                j -= interval\n",
    "                self.cnt += 1\n",
    "            self.targetList[j + interval] = targetElement\n",
    "    \n",
    "    def shellSort(self):\n",
    "        # 数列 G = {1, 4, 13, 40, 121, 364, 1093, ...} を生成\n",
    "        value = 1\n",
    "        while value <= self.length:\n",
    "            self.G.append(value)\n",
    "            value = 3*value + 1\n",
    "\n",
    "        for i in range(len(self.G) -1 , -1, -1):\n",
    "            self.insertionSort(self.G[i])\n",
    "\n",
    "        print(len(self.G))\n",
    "        print(\" \".join([str(i) for i in reversed(self.G)]))\n",
    "        print(self.cnt)\n",
    "        for i in self.targetList:\n",
    "            print(i)\n",
    "\n",
    "if __name__ == '__main__':\n",
    "    length = int(input())\n",
    "    targetList = []\n",
    "    while True:\n",
    "        try:\n",
    "            targetList.append(int(input()))\n",
    "        except:\n",
    "            break;\n",
    "\n",
    "    test = Test(targetList, length)\n",
    "    test.shellSort()"
   ]
  },
  {
   "cell_type": "code",
   "execution_count": 253,
   "metadata": {},
   "outputs": [],
   "source": [
    "targetList = [1]\n",
    "length = 1"
   ]
  },
  {
   "cell_type": "code",
   "execution_count": 254,
   "metadata": {},
   "outputs": [
    {
     "data": {
      "text/plain": [
       "<bound method Test.shellSort of <__main__.Test object at 0x10c6f9390>>"
      ]
     },
     "execution_count": 254,
     "metadata": {},
     "output_type": "execute_result"
    }
   ],
   "source": [
    "test.shellSort"
   ]
  },
  {
   "cell_type": "code",
   "execution_count": 255,
   "metadata": {},
   "outputs": [
    {
     "name": "stdout",
     "output_type": "stream",
     "text": [
      "0\n",
      "\n",
      "0\n",
      "1\n"
     ]
    }
   ],
   "source": [
    "test = Test(targetList, length)\n",
    "test.shellSort()"
   ]
  },
  {
   "cell_type": "code",
   "execution_count": null,
   "metadata": {},
   "outputs": [],
   "source": []
  }
 ],
 "metadata": {
  "kernelspec": {
   "display_name": "Python 3",
   "language": "python",
   "name": "python3"
  },
  "language_info": {
   "codemirror_mode": {
    "name": "ipython",
    "version": 3
   },
   "file_extension": ".py",
   "mimetype": "text/x-python",
   "name": "python",
   "nbconvert_exporter": "python",
   "pygments_lexer": "ipython3",
   "version": "3.6.1"
  }
 },
 "nbformat": 4,
 "nbformat_minor": 2
}
