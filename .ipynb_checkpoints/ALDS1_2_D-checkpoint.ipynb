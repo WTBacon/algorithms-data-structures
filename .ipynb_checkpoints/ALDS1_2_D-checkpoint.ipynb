{
 "cells": [
  {
   "cell_type": "markdown",
   "metadata": {},
   "source": [
    "# ALDS1_2_D: Shell Sort\n",
    "Shell Sort\n",
    ">次のプログラムは、挿入ソートを応用して n 個の整数を含む数列 A を昇順に整列するプログラムです。\n",
    "```\n",
    "1  insertionSort(A, n, g)\n",
    "2      for i = g to n-1\n",
    "3          v = A[i]\n",
    "4          j = i - g\n",
    "5          while j >= 0 && A[j] > v\n",
    "6              A[j+g] = A[j]\n",
    "7              j = j - g\n",
    "8              cnt++\n",
    "9          A[j+g] = v\n",
    "10\n",
    "11 shellSort(A, n)\n",
    "12     cnt = 0\n",
    "13     m = ?\n",
    "14     G[] = {?, ?,..., ?}\n",
    "15     for i = 0 to m-1\n",
    "16         insertionSort(A, n, G[i])\n",
    "```\n",
    ">shellSort(A, n) は、一定の間隔 g だけ離れた要素のみを対象とした挿入ソートである insertionSort(A, n, g) を、最初は大きい値から g を狭めながら繰り返します。これをシェルソートと言います。\n",
    "\n",
    "問題\n",
    ">上の疑似コードの ? を埋めてこのプログラムを完成させてください。n と数列 A が与えられるので、疑似コード中の m、m 個の整数 Gi(i=0,1,...,m－1)、入力 Aを昇順にした列を出力するプログラムを作成してください。ただし、出力は以下の条件を満 たす必要があります。\n",
    "\n",
    "> * 1≤m≤100\n",
    "* 0≤Gi≤n\n",
    "* cnt の値は ⌈n1.5⌉ を超えてはならない\n"
   ]
  },
  {
   "cell_type": "markdown",
   "metadata": {},
   "source": [
    "### 入力\n",
    "> 1 行目に整数 n が与えられます。続く n 行目に n 個の整数 Ai(i=0,1,...,n−1) が与えられます。\n",
    "\n",
    "### 出力\n",
    "> 1 行目に整数 m、2 行目に m 個の整数 Gi(i=0,1,...,m−1) を空白区切りで出力してください。\n",
    "3 行目に、G を用いた場合のプログラムが終了した直後の cnt　の値を出力してください。\n",
    "続く n 行に整列した Ai(i=0,1,...,n−1) を出力してください。\n",
    "\n",
    "> この問題では、１つの入力に対して複数の解答があります。条件を満たす出力は全て正解となります。\n",
    "\n",
    "### 制約\n",
    "> * 1≤n≤1,000,000\n",
    "* 0≤Ai≤109\n"
   ]
  },
  {
   "cell_type": "code",
   "execution_count": 170,
   "metadata": {},
   "outputs": [],
   "source": [
    "class Test:\n",
    "    def __init__(self):\n",
    "        self.cnt = 0\n",
    "        \n",
    "    def insertionSort(self, targetList, length, interval):\n",
    "        tmpCnt = 0\n",
    "        for i in range(interval, length):\n",
    "            targetElement = targetList[i]\n",
    "            j = i - interval\n",
    "            while (j >= 0 and targetList[j] > targetElement):\n",
    "                targetList[j + interval] = targetList[j]\n",
    "                j -= interval\n",
    "                tmpCnt += 1\n",
    "            targetList[j + interval] = targetElement\n",
    "        self.cnt = max(self.cnt, tmpCnt)\n",
    "    \n",
    "    def shellSort(self, targetList, length):\n",
    "        # 数列 G = {1, 4, 13, 40, 121, 364, 1093, ...} を生成\n",
    "        G = []\n",
    "        value = 1\n",
    "        while value < length:\n",
    "            G.append(value)\n",
    "            value = 3*value + 1\n",
    "\n",
    "        print(len(G))\n",
    "        print(\" \".join([str(i) for i in reversed(G)]))\n",
    "\n",
    "        for i in range(len(G) -1 , -1, -1):\n",
    "            self.insertionSort(targetList, length, G[i])\n",
    "        print(self.cnt)"
   ]
  },
  {
   "cell_type": "code",
   "execution_count": 171,
   "metadata": {},
   "outputs": [],
   "source": [
    "targetList = [5,5,1,4,3,2]\n",
    "length = 5\n"
   ]
  },
  {
   "cell_type": "code",
   "execution_count": 168,
   "metadata": {},
   "outputs": [
    {
     "data": {
      "text/plain": [
       "<bound method Test.shellSort of <__main__.Test object at 0x10c69d198>>"
      ]
     },
     "execution_count": 168,
     "metadata": {},
     "output_type": "execute_result"
    }
   ],
   "source": [
    "test.shellSort"
   ]
  },
  {
   "cell_type": "code",
   "execution_count": 169,
   "metadata": {},
   "outputs": [
    {
     "name": "stdout",
     "output_type": "stream",
     "text": [
      "2\n",
      "4 1\n",
      "3\n"
     ]
    }
   ],
   "source": [
    "test = Test()\n",
    "test.shellSort(targetList, length)"
   ]
  },
  {
   "cell_type": "code",
   "execution_count": 137,
   "metadata": {},
   "outputs": [
    {
     "name": "stdout",
     "output_type": "stream",
     "text": [
      "\n"
     ]
    },
    {
     "ename": "ValueError",
     "evalue": "invalid literal for int() with base 10: ''",
     "output_type": "error",
     "traceback": [
      "\u001b[0;31m---------------------------------------------------------------------------\u001b[0m",
      "\u001b[0;31mValueError\u001b[0m                                Traceback (most recent call last)",
      "\u001b[0;32m<ipython-input-137-7f77a4a2984a>\u001b[0m in \u001b[0;36m<module>\u001b[0;34m()\u001b[0m\n\u001b[1;32m      1\u001b[0m \u001b[0;32mif\u001b[0m \u001b[0m__name__\u001b[0m \u001b[0;34m==\u001b[0m \u001b[0;34m'__main__'\u001b[0m\u001b[0;34m:\u001b[0m\u001b[0;34m\u001b[0m\u001b[0m\n\u001b[0;32m----> 2\u001b[0;31m     \u001b[0mlength\u001b[0m \u001b[0;34m=\u001b[0m \u001b[0mint\u001b[0m\u001b[0;34m(\u001b[0m\u001b[0minput\u001b[0m\u001b[0;34m(\u001b[0m\u001b[0;34m)\u001b[0m\u001b[0;34m)\u001b[0m\u001b[0;34m\u001b[0m\u001b[0m\n\u001b[0m\u001b[1;32m      3\u001b[0m     \u001b[0mtargetList\u001b[0m \u001b[0;34m=\u001b[0m \u001b[0;34m[\u001b[0m\u001b[0;34m]\u001b[0m\u001b[0;34m\u001b[0m\u001b[0m\n\u001b[1;32m      4\u001b[0m     \u001b[0;32mwhile\u001b[0m \u001b[0;32mTrue\u001b[0m\u001b[0;34m:\u001b[0m\u001b[0;34m\u001b[0m\u001b[0m\n\u001b[1;32m      5\u001b[0m         \u001b[0;32mtry\u001b[0m\u001b[0;34m:\u001b[0m\u001b[0;34m\u001b[0m\u001b[0m\n",
      "\u001b[0;31mValueError\u001b[0m: invalid literal for int() with base 10: ''"
     ]
    }
   ],
   "source": [
    "if __name__ == '__main__':\n",
    "    length = int(input())\n",
    "    targetList = []\n",
    "    while True:\n",
    "        try:\n",
    "            targetList = append(int(input()))\n",
    "        except:\n",
    "            break;\n",
    "\n",
    "    test = Test()\n",
    "    test.shellSort(targetList, length)\n"
   ]
  },
  {
   "cell_type": "code",
   "execution_count": null,
   "metadata": {},
   "outputs": [],
   "source": []
  }
 ],
 "metadata": {
  "kernelspec": {
   "display_name": "Python 3",
   "language": "python",
   "name": "python3"
  },
  "language_info": {
   "codemirror_mode": {
    "name": "ipython",
    "version": 3
   },
   "file_extension": ".py",
   "mimetype": "text/x-python",
   "name": "python",
   "nbconvert_exporter": "python",
   "pygments_lexer": "ipython3",
   "version": "3.6.1"
  }
 },
 "nbformat": 4,
 "nbformat_minor": 2
}
