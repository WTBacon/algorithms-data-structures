{
 "cells": [
  {
   "cell_type": "markdown",
   "metadata": {},
   "source": [
    "# ALDS1_1_A: Insertion Sort\n",
    "挿入ソート\n",
    "> 挿入ソート（Insertion Sort）は、手持ちのトランプを並び替えるときに使われる、自然で思い付きやすいアルゴリズムの１つです。片手に持ったトランプを左から小さい順に並べる場合、１枚ずつカードを取り出して、それをその時点ですでにソートされている並びの適切な位置に挿入していくことによって、カードを並べ替えることができます。  \n",
    "\n",
    "> 挿入ソートは次のようなアルゴリズムになります。\n",
    "```\n",
    "1 insertionSort(A, N) // N個の要素を含む0-オリジンの配列A\n",
    "2     for i が 1 から N-1 まで\n",
    "3         v = A[i]\n",
    "4         j = i - 1\n",
    "5         while j >= 0 かつ A[j] > v\n",
    "6             A[j+1] = A[j]\n",
    "7             j--\n",
    "8         A[j+1] = v\n",
    "```\n",
    "\n",
    "オーダ\n",
    "> 挿入ソートは、入力のデータの並びが、計算量に大きく影響する興味深いアルゴリズムの一つです。最悪の場合、iのループの各処理がi回行われるので、\n",
    "1 + 2 + ... + N - 1 = (N^2 - N) / 2\n",
    "となり、O(N^2)のアルゴリズムとなります。\n",
    "\n",
    "問題\n",
    "> N 個の要素を含む数列 A を昇順に並び替える挿入ソートのプログラムを作成してください。上の疑似コードに従いアルゴリズムを実装してください。アルゴリズムの動作を確認するため、各計算ステップでの配列（入力直後の並びと、各 i の処理が終了した直後の並び）を出力してください。"
   ]
  },
  {
   "cell_type": "markdown",
   "metadata": {},
   "source": [
    "### 入力\n",
    "> 入力の最初の行に、数列の長さを表す整数 N が与えられます。2 行目に、N 個の整数が空白区切りで与えられます。\n",
    "\n",
    "### 出力\n",
    "> 出力は N 行からなります。挿入ソートの各計算ステップでの途中結果を 1 行に出力してください。配列の要素は１つの空白で区切って出力してください。最後の要素の後の空白など、余計な空白や改行を含めると Presentation Error となりますので注意してください。\n",
    "\n",
    "### 制約\n",
    "> * 1 ≤ N ≤ 100  \n",
    "> * 0 ≤ A の要素 ≤ 1,000"
   ]
  },
  {
   "cell_type": "code",
   "execution_count": null,
   "metadata": {},
   "outputs": [],
   "source": [
    "# targetList : 入力された数字の文字列をint型の要素にして保持するリスト\n",
    "# i : 未ソートの部分列の先頭のインデックスを示すループ変数\n",
    "# v : targetList[i] の値を一時的に保持する変数\n",
    "# j : ソート済みの部分列からvを挿入するための位置を探すループ変数\n",
    "def insertionSort(targetList, length):\n",
    "    print(\" \".join([str(x) for x in targetList]))\n",
    "    for i in range(1,length):\n",
    "        v = targetList[i]\n",
    "        j = i - 1\n",
    "        while (j >= 0 and targetList[j] > v):\n",
    "            targetList[j + 1] = targetList[j]\n",
    "            j -= 1\n",
    "        targetList[j + 1] = v\n",
    "        print(\" \".join([str(x) for x in targetList]))\n",
    "\n",
    "if __name__ == '__main__':\n",
    "    length = int(input())\n",
    "    targetList = list(map(int,input().split()))\n",
    "    insertionSort(targetList, length)"
   ]
  },
  {
   "cell_type": "code",
   "execution_count": null,
   "metadata": {},
   "outputs": [],
   "source": []
  }
 ],
 "metadata": {
  "kernelspec": {
   "display_name": "Python 3",
   "language": "python",
   "name": "python3"
  },
  "language_info": {
   "codemirror_mode": {
    "name": "ipython",
    "version": 3
   },
   "file_extension": ".py",
   "mimetype": "text/x-python",
   "name": "python",
   "nbconvert_exporter": "python",
   "pygments_lexer": "ipython3",
   "version": "3.6.1"
  }
 },
 "nbformat": 4,
 "nbformat_minor": 2
}
